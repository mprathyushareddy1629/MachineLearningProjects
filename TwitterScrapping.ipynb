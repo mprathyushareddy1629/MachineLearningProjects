{
 "cells": [
  {
   "cell_type": "markdown",
   "metadata": {
    "id": "1tTZKds6EMOH"
   },
   "source": [
    "# Scraping Twitter Using snscrape's Python Wrapper\n",
    "<br>Package Github: https://github.com/JustAnotherArchivist/snscrape\n",
    "\n",
    "<b>Dependencies: </b> \n",
    "- <b>Python</b> version must be <b>3.8</b> or higher.\n",
    "- <b>Development version of snscrape</b>\n",
    "- <b>Pandas</b>"
   ]
  },
  {
   "cell_type": "code",
   "execution_count": 34,
   "metadata": {
    "colab": {
     "base_uri": "https://localhost:8080/"
    },
    "id": "uwN7zRnVEbaZ",
    "outputId": "800ed520-3201-491a-b456-a5f3927305ad"
   },
   "outputs": [],
   "source": [
    "# Run the pip install to install snscrape library from git\n",
    "#!pip install git+https://github.com/JustAnotherArchivist/snscrape.git"
   ]
  },
  {
   "cell_type": "code",
   "execution_count": 35,
   "metadata": {
    "id": "X3BRAV-ZEMOI"
   },
   "outputs": [],
   "source": [
    "# Imports\n",
    "import snscrape.modules.twitter as sntwitter\n",
    "import pandas as pd"
   ]
  },
  {
   "cell_type": "markdown",
   "metadata": {
    "id": "V2bBVOAIEMOJ"
   },
   "source": [
    "# Query by Username\n",
    "**Description**: The code will scrape Twitter for 250 tweets for the given username. These tweets are exported to a CSV file with Pandas."
   ]
  },
  {
   "cell_type": "code",
   "execution_count": 36,
   "metadata": {
    "colab": {
     "base_uri": "https://localhost:8080/"
    },
    "id": "t6HpbyaGEMOJ",
    "outputId": "16d7bb79-711c-449d-f516-2a477f824374"
   },
   "outputs": [],
   "source": [
    "# Setting variables to be used below\n",
    "maxTweets = 250\n",
    "\n",
    "# Creating list to append tweet data to\n",
    "tweets_list1 = []\n",
    "\n",
    "# username to scrape tweets from\n",
    "user_name = 'tim_cook'\n",
    "\n",
    "# Using TwitterSearchScraper to scrape data and append tweets to list\n",
    "for i, tweet in enumerate(sntwitter.TwitterSearchScraper(f'from:{user_name}').get_items()):\n",
    "    if i > maxTweets:\n",
    "        break\n",
    "    tweets_list1.append([tweet.date, tweet.id, tweet.rawContent, tweet.user.username])"
   ]
  },
  {
   "cell_type": "code",
   "execution_count": 37,
   "metadata": {
    "colab": {
     "base_uri": "https://localhost:8080/",
     "height": 206
    },
    "id": "LIEL_ql7EMOJ",
    "outputId": "043b26d7-6129-448e-909f-a92f78fc50dd",
    "scrolled": false
   },
   "outputs": [
    {
     "data": {
      "text/html": [
       "<div>\n",
       "<style scoped>\n",
       "    .dataframe tbody tr th:only-of-type {\n",
       "        vertical-align: middle;\n",
       "    }\n",
       "\n",
       "    .dataframe tbody tr th {\n",
       "        vertical-align: top;\n",
       "    }\n",
       "\n",
       "    .dataframe thead th {\n",
       "        text-align: right;\n",
       "    }\n",
       "</style>\n",
       "<table border=\"1\" class=\"dataframe\">\n",
       "  <thead>\n",
       "    <tr style=\"text-align: right;\">\n",
       "      <th></th>\n",
       "      <th>Date_Time</th>\n",
       "      <th>Tweet Id</th>\n",
       "      <th>Text</th>\n",
       "      <th>Username</th>\n",
       "    </tr>\n",
       "  </thead>\n",
       "  <tbody>\n",
       "    <tr>\n",
       "      <th>0</th>\n",
       "      <td>2023-06-09 15:21:52+00:00</td>\n",
       "      <td>1667190281886912512</td>\n",
       "      <td>What an incredible WWDC! Thank you to develope...</td>\n",
       "      <td>tim_cook</td>\n",
       "    </tr>\n",
       "    <tr>\n",
       "      <th>1</th>\n",
       "      <td>2023-06-08 00:27:44+00:00</td>\n",
       "      <td>1666602875701837824</td>\n",
       "      <td>@JuanpaZurita Great seeing you at Apple Park!</td>\n",
       "      <td>tim_cook</td>\n",
       "    </tr>\n",
       "    <tr>\n",
       "      <th>2</th>\n",
       "      <td>2023-06-06 15:08:55+00:00</td>\n",
       "      <td>1666099857621385216</td>\n",
       "      <td>The new MacBook Air is the world’s best — and ...</td>\n",
       "      <td>tim_cook</td>\n",
       "    </tr>\n",
       "    <tr>\n",
       "      <th>3</th>\n",
       "      <td>2023-06-05 19:43:37+00:00</td>\n",
       "      <td>1665806601436160000</td>\n",
       "      <td>https://t.co/7JIDCKC5Ux</td>\n",
       "      <td>tim_cook</td>\n",
       "    </tr>\n",
       "    <tr>\n",
       "      <th>4</th>\n",
       "      <td>2023-06-05 19:43:37+00:00</td>\n",
       "      <td>1665806600261763072</td>\n",
       "      <td>Welcome to the era of spatial computing with A...</td>\n",
       "      <td>tim_cook</td>\n",
       "    </tr>\n",
       "  </tbody>\n",
       "</table>\n",
       "</div>"
      ],
      "text/plain": [
       "                  Date_Time             Tweet Id  \\\n",
       "0 2023-06-09 15:21:52+00:00  1667190281886912512   \n",
       "1 2023-06-08 00:27:44+00:00  1666602875701837824   \n",
       "2 2023-06-06 15:08:55+00:00  1666099857621385216   \n",
       "3 2023-06-05 19:43:37+00:00  1665806601436160000   \n",
       "4 2023-06-05 19:43:37+00:00  1665806600261763072   \n",
       "\n",
       "                                                Text  Username  \n",
       "0  What an incredible WWDC! Thank you to develope...  tim_cook  \n",
       "1      @JuanpaZurita Great seeing you at Apple Park!  tim_cook  \n",
       "2  The new MacBook Air is the world’s best — and ...  tim_cook  \n",
       "3                            https://t.co/7JIDCKC5Ux  tim_cook  \n",
       "4  Welcome to the era of spatial computing with A...  tim_cook  "
      ]
     },
     "execution_count": 37,
     "metadata": {},
     "output_type": "execute_result"
    }
   ],
   "source": [
    "# Creating a dataframe from the tweets list above\n",
    "tweets_df1 = pd.DataFrame(tweets_list1, columns=['Date_Time', 'Tweet Id', 'Text', 'Username'])\n",
    "\n",
    "# Display first 5 entries from dataframe\n",
    "tweets_df1.head()"
   ]
  },
  {
   "cell_type": "code",
   "execution_count": 38,
   "metadata": {
    "id": "EQLNMl8dEMOK"
   },
   "outputs": [],
   "source": [
    "# Export dataframe into a CSV\n",
    "tweets_df1.to_csv('username-tweets.csv', sep=',', index=False)"
   ]
  },
  {
   "cell_type": "markdown",
   "metadata": {
    "id": "StWy4TD3EMOK"
   },
   "source": [
    "# Query by Text Search\n",
    "**Description**: The code will scrape twitter for 500 tweets for the given text. The time range is set from January 1st, 2020 to June 11th, 2023, by a text search then provide a CSV file with Pandas."
   ]
  },
  {
   "cell_type": "code",
   "execution_count": 39,
   "metadata": {
    "colab": {
     "base_uri": "https://localhost:8080/"
    },
    "id": "OZCzOEzvEMOK",
    "outputId": "40bf909c-df3f-4882-da0b-937d0c3b9e20"
   },
   "outputs": [
    {
     "name": "stdout",
     "output_type": "stream",
     "text": [
      "Scrapping Completed\n"
     ]
    }
   ],
   "source": [
    "# Setting variables to be used below\n",
    "maxTweets = 100\n",
    "\n",
    "# Creating list to append tweet data to\n",
    "tweets_list2 = []\n",
    "\n",
    "\n",
    "# Using TwitterSearchScraper to scrape data and append tweets to list\n",
    "for i, tweet in enumerate(sntwitter.TwitterSearchScraper('its the elephants since:2020-01-01 until:2023-06-11').get_items()):\n",
    "    if i > maxTweets:\n",
    "        break\n",
    "    tweets_list2.append([tweet.date, tweet.id, tweet.rawContent, tweet.user.username])\n",
    "    \n",
    "print(\"Scrapping Completed\")"
   ]
  },
  {
   "cell_type": "code",
   "execution_count": 40,
   "metadata": {
    "colab": {
     "base_uri": "https://localhost:8080/",
     "height": 206
    },
    "id": "r9naOEx7EMOK",
    "outputId": "144484e9-ad69-487d-dc8b-e5e8e330f21b",
    "scrolled": false
   },
   "outputs": [
    {
     "data": {
      "text/html": [
       "<div>\n",
       "<style scoped>\n",
       "    .dataframe tbody tr th:only-of-type {\n",
       "        vertical-align: middle;\n",
       "    }\n",
       "\n",
       "    .dataframe tbody tr th {\n",
       "        vertical-align: top;\n",
       "    }\n",
       "\n",
       "    .dataframe thead th {\n",
       "        text-align: right;\n",
       "    }\n",
       "</style>\n",
       "<table border=\"1\" class=\"dataframe\">\n",
       "  <thead>\n",
       "    <tr style=\"text-align: right;\">\n",
       "      <th></th>\n",
       "      <th>Date_Time</th>\n",
       "      <th>Tweet Id</th>\n",
       "      <th>Text</th>\n",
       "      <th>Username</th>\n",
       "    </tr>\n",
       "  </thead>\n",
       "  <tbody>\n",
       "    <tr>\n",
       "      <th>0</th>\n",
       "      <td>2023-06-10 18:05:01+00:00</td>\n",
       "      <td>1667593725252362246</td>\n",
       "      <td>\"The Elephants\" is one of Salvador Dali's most...</td>\n",
       "      <td>clarkehimself</td>\n",
       "    </tr>\n",
       "    <tr>\n",
       "      <th>1</th>\n",
       "      <td>2023-06-10 12:06:32+00:00</td>\n",
       "      <td>1667503510877765633</td>\n",
       "      <td>@Suparnastar @UKinMexico @LauraAlvarezJC @jere...</td>\n",
       "      <td>ElephantsRule</td>\n",
       "    </tr>\n",
       "    <tr>\n",
       "      <th>2</th>\n",
       "      <td>2023-06-10 02:30:39+00:00</td>\n",
       "      <td>1667358585230348288</td>\n",
       "      <td>@jemma16176693 @alexsaltertv @ava_marie_v @M_C...</td>\n",
       "      <td>AustinFarle</td>\n",
       "    </tr>\n",
       "    <tr>\n",
       "      <th>3</th>\n",
       "      <td>2023-06-10 02:23:19+00:00</td>\n",
       "      <td>1667356741716312064</td>\n",
       "      <td>If trophy hunting is banned, what is your plan...</td>\n",
       "      <td>AustinFarle</td>\n",
       "    </tr>\n",
       "    <tr>\n",
       "      <th>4</th>\n",
       "      <td>2023-06-09 15:55:06+00:00</td>\n",
       "      <td>1667198645383340034</td>\n",
       "      <td>@ianfoltan Sure, Australian onions might have ...</td>\n",
       "      <td>Ric4rdoTM</td>\n",
       "    </tr>\n",
       "  </tbody>\n",
       "</table>\n",
       "</div>"
      ],
      "text/plain": [
       "                  Date_Time             Tweet Id  \\\n",
       "0 2023-06-10 18:05:01+00:00  1667593725252362246   \n",
       "1 2023-06-10 12:06:32+00:00  1667503510877765633   \n",
       "2 2023-06-10 02:30:39+00:00  1667358585230348288   \n",
       "3 2023-06-10 02:23:19+00:00  1667356741716312064   \n",
       "4 2023-06-09 15:55:06+00:00  1667198645383340034   \n",
       "\n",
       "                                                Text       Username  \n",
       "0  \"The Elephants\" is one of Salvador Dali's most...  clarkehimself  \n",
       "1  @Suparnastar @UKinMexico @LauraAlvarezJC @jere...  ElephantsRule  \n",
       "2  @jemma16176693 @alexsaltertv @ava_marie_v @M_C...    AustinFarle  \n",
       "3  If trophy hunting is banned, what is your plan...    AustinFarle  \n",
       "4  @ianfoltan Sure, Australian onions might have ...      Ric4rdoTM  "
      ]
     },
     "execution_count": 40,
     "metadata": {},
     "output_type": "execute_result"
    }
   ],
   "source": [
    "# Creating a dataframe from the tweets list above\n",
    "tweets_df2 = pd.DataFrame(tweets_list2, columns=['Date_Time', 'Tweet Id', 'Text', 'Username'])\n",
    "\n",
    "# Display first 5 entries from dataframe\n",
    "tweets_df2.head()"
   ]
  },
  {
   "cell_type": "code",
   "execution_count": 41,
   "metadata": {
    "id": "IRais8APEMOL"
   },
   "outputs": [],
   "source": [
    "# Export dataframe into a CSV\n",
    "tweets_df2.to_csv('text-query-tweets.csv', sep=',', index=False)"
   ]
  }
 ],
 "metadata": {
  "colab": {
   "provenance": []
  },
  "kernelspec": {
   "display_name": "Python 3 (ipykernel)",
   "language": "python",
   "name": "python3"
  },
  "language_info": {
   "codemirror_mode": {
    "name": "ipython",
    "version": 3
   },
   "file_extension": ".py",
   "mimetype": "text/x-python",
   "name": "python",
   "nbconvert_exporter": "python",
   "pygments_lexer": "ipython3",
   "version": "3.9.13"
  }
 },
 "nbformat": 4,
 "nbformat_minor": 1
}
